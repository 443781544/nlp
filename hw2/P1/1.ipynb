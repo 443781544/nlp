{
 "cells": [
  {
   "cell_type": "code",
   "execution_count": 5,
   "metadata": {},
   "outputs": [],
   "source": [
    "import spacy\n",
    "\n",
    "nlp = spacy.load(\"en_core_web_sm\")"
   ]
  },
  {
   "cell_type": "code",
   "execution_count": 39,
   "metadata": {},
   "outputs": [],
   "source": [
    "text = open(\"parsing_dataset.txt\", \"r\", encoding=\"utf8\").read()"
   ]
  },
  {
   "cell_type": "code",
   "execution_count": 40,
   "metadata": {},
   "outputs": [],
   "source": [
    "doc = nlp(text)"
   ]
  },
  {
   "cell_type": "markdown",
   "metadata": {},
   "source": [
    "# 1.1"
   ]
  },
  {
   "cell_type": "code",
   "execution_count": 48,
   "metadata": {},
   "outputs": [
    {
     "name": "stdout",
     "output_type": "stream",
     "text": [
      "The number of sentences parsed: 5493\n"
     ]
    }
   ],
   "source": [
    "sent_count = 0\n",
    "for token in doc:\n",
    "    if token.dep_ == \"ROOT\":\n",
    "        sent_count += 1\n",
    "        \n",
    "print(\"The number of sentences parsed:\", sent_count)"
   ]
  },
  {
   "cell_type": "markdown",
   "metadata": {},
   "source": [
    "# 1.2"
   ]
  },
  {
   "cell_type": "code",
   "execution_count": 51,
   "metadata": {},
   "outputs": [
    {
     "name": "stdout",
     "output_type": "stream",
     "text": [
      "The average number of verbs per sentence: 2.8126706717640633\n"
     ]
    }
   ],
   "source": [
    "verb_count = 0\n",
    "for token in doc:\n",
    "    if token.pos_ == \"VERB\":\n",
    "        verb_count += 1\n",
    "        \n",
    "print(\"The average number of verbs per sentence:\", verb_count / sent_count)"
   ]
  },
  {
   "cell_type": "markdown",
   "metadata": {},
   "source": [
    "# 1.3"
   ]
  },
  {
   "cell_type": "code",
   "execution_count": 56,
   "metadata": {},
   "outputs": [],
   "source": [
    "prepositions = [token.text for token in doc if token.dep_ == \"prep\"]"
   ]
  },
  {
   "cell_type": "code",
   "execution_count": 60,
   "metadata": {},
   "outputs": [
    {
     "name": "stdout",
     "output_type": "stream",
     "text": [
      "[('of', 4583), ('in', 2641), ('to', 1362)]\n"
     ]
    }
   ],
   "source": [
    "from collections import Counter\n",
    "prep_freq = Counter(prepositions)\n",
    "common = prep_freq.most_common(3)\n",
    "print(common)"
   ]
  },
  {
   "cell_type": "markdown",
   "metadata": {},
   "source": [
    "# 1.4"
   ]
  },
  {
   "cell_type": "code",
   "execution_count": 61,
   "metadata": {},
   "outputs": [],
   "source": [
    "entities = [ent.label_ for ent in doc.ents]"
   ]
  },
  {
   "cell_type": "code",
   "execution_count": 69,
   "metadata": {},
   "outputs": [
    {
     "name": "stdout",
     "output_type": "stream",
     "text": [
      "The total number of entities found: 7088\n",
      "All the unique entity labels: {'DATE', 'QUANTITY', 'ORDINAL', 'LOC', 'EVENT', 'PERSON', 'GPE', 'WORK_OF_ART', 'MONEY', 'TIME', 'LAW', 'FAC', 'PERCENT', 'ORG', 'CARDINAL', 'LANGUAGE', 'NORP', 'PRODUCT'}\n"
     ]
    }
   ],
   "source": [
    "print(\"The total number of entities found:\", len(entities))\n",
    "print(\"All the unique entity labels:\", set(entities))"
   ]
  },
  {
   "cell_type": "code",
   "execution_count": null,
   "metadata": {},
   "outputs": [],
   "source": []
  },
  {
   "cell_type": "code",
   "execution_count": null,
   "metadata": {},
   "outputs": [],
   "source": []
  },
  {
   "cell_type": "code",
   "execution_count": null,
   "metadata": {},
   "outputs": [],
   "source": []
  }
 ],
 "metadata": {
  "kernelspec": {
   "display_name": "Python 3",
   "language": "python",
   "name": "python3"
  },
  "language_info": {
   "codemirror_mode": {
    "name": "ipython",
    "version": 3
   },
   "file_extension": ".py",
   "mimetype": "text/x-python",
   "name": "python",
   "nbconvert_exporter": "python",
   "pygments_lexer": "ipython3",
   "version": "3.7.4"
  }
 },
 "nbformat": 4,
 "nbformat_minor": 2
}
