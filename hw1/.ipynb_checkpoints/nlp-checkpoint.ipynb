{
 "cells": [
  {
   "cell_type": "code",
   "execution_count": 2,
   "metadata": {
    "colab": {},
    "colab_type": "code",
    "id": "LUnLBypJRAyL"
   },
   "outputs": [],
   "source": [
    "import nltk"
   ]
  },
  {
   "cell_type": "markdown",
   "metadata": {
    "colab_type": "text",
    "id": "eVIBs4HOedVg"
   },
   "source": [
    "没有做作业要求的文本预处理，但是好像nltk自带了预处理"
   ]
  },
  {
   "cell_type": "code",
   "execution_count": 5,
   "metadata": {
    "colab": {},
    "colab_type": "code",
    "id": "NTRwquUiRzrt"
   },
   "outputs": [],
   "source": [
    "tokens = nltk.word_tokenize(open('training_data.txt', encoding='utf-8').read())"
   ]
  },
  {
   "cell_type": "markdown",
   "metadata": {
    "colab_type": "text",
    "id": "cGfeGOrFe4ef"
   },
   "source": [
    "## build n-grams\n",
    "n-gram都是字典<br/>\n",
    "bigram和trigram的key为了能够写到文件里所以加了一层str()，其实可以去掉，如果不去掉键就是一个str(tuple)，tuple是要查找的键，是一个元组,去掉之后key就是一个元组\n",
    "\n"
   ]
  },
  {
   "cell_type": "code",
   "execution_count": 9,
   "metadata": {
    "colab": {},
    "colab_type": "code",
    "id": "UfzDnm7cR6Ln"
   },
   "outputs": [],
   "source": [
    "unigram = {}\n",
    "for token in tokens:\n",
    "  try:\n",
    "    unigram[token] += 1\n",
    "  except:\n",
    "    unigram[token] = 1\n",
    "\n",
    "bigram = {}\n",
    "for i in range(1,len(tokens)):\n",
    "  try:\n",
    "    bigram[str((tokens[i],tokens[i-1]))] += 1\n",
    "    # bigram[(tokens[i],tokens[i-1])] += 1\n",
    "  except:\n",
    "    bigram[str((tokens[i],tokens[i-1]))] = 1\n",
    "    # bigram[(tokens[i],tokens[i-1])] = 1\n",
    "\n",
    "trigram = {}\n",
    "for i in range(2,len(tokens)):\n",
    "  try:\n",
    "    trigram[str((tokens[i],tokens[i-1],tokens[i-2]))] += 1\n",
    "    # trigram[(tokens[i],tokens[i-1],tokens[i-2])] += 1\n",
    "  except:\n",
    "    trigram[str((tokens[i],tokens[i-1],tokens[i-2]))] = 1\n",
    "    # trigram[(tokens[i],tokens[i-1],tokens[i-2])] = 1"
   ]
  },
  {
   "cell_type": "code",
   "execution_count": 10,
   "metadata": {
    "colab": {
     "base_uri": "https://localhost:8080/",
     "height": 67
    },
    "colab_type": "code",
    "id": "mI3Anc59gOqC",
    "outputId": "ffd55e7a-112f-4c8a-945e-8e17bc7d11d6"
   },
   "outputs": [
    {
     "name": "stdout",
     "output_type": "stream",
     "text": [
      "34363\n",
      "2475\n",
      "180\n"
     ]
    }
   ],
   "source": [
    "# examples\n",
    "print(unigram['a'])\n",
    "print(bigram[str(('this','in'))])\n",
    "# print(bigram[('this','in')])\n",
    "print(trigram[str(('as', 'soon', 'as'))])\n",
    "# print(trigram[('as', 'soon', 'as')])"
   ]
  },
  {
   "cell_type": "code",
   "execution_count": 11,
   "metadata": {
    "colab": {},
    "colab_type": "code",
    "id": "R395YYQ1Vxc2"
   },
   "outputs": [],
   "source": [
    "# write to file\n",
    "import json\n",
    "with open('unigram.txt','w') as f:\n",
    "  f.write(json.dumps(unigram))\n",
    "with open('trigram.txt','w') as f:\n",
    "  f.write(json.dumps(trigram))\n",
    "with open('bigram.txt','w') as f:\n",
    "  f.write(json.dumps(bigram))"
   ]
  },
  {
   "cell_type": "code",
   "execution_count": null,
   "metadata": {},
   "outputs": [],
   "source": []
  }
 ],
 "metadata": {
  "colab": {
   "collapsed_sections": [],
   "name": "nlp.ipynb",
   "provenance": [],
   "toc_visible": true
  },
  "kernelspec": {
   "display_name": "Python 3",
   "language": "python",
   "name": "python3"
  },
  "language_info": {
   "codemirror_mode": {
    "name": "ipython",
    "version": 3
   },
   "file_extension": ".py",
   "mimetype": "text/x-python",
   "name": "python",
   "nbconvert_exporter": "python",
   "pygments_lexer": "ipython3",
   "version": "3.7.4"
  }
 },
 "nbformat": 4,
 "nbformat_minor": 1
}
